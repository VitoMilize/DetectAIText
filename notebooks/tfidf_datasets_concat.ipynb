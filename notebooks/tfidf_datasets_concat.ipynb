{
 "cells": [
  {
   "cell_type": "code",
   "execution_count": 48,
   "id": "initial_id",
   "metadata": {
    "collapsed": true,
    "ExecuteTime": {
     "end_time": "2024-04-09T14:26:12.094554Z",
     "start_time": "2024-04-09T14:26:12.078556Z"
    }
   },
   "outputs": [],
   "source": [
    "import pandas as pd"
   ]
  },
  {
   "cell_type": "code",
   "outputs": [
    {
     "data": {
      "text/plain": "                                                    text  generated\n0      Phones\\n\\nModern humans today are always on th...          0\n1      This essay will explain if drivers should or s...          0\n2      Driving while the use of cellular devices\\n\\nT...          0\n3      Phones & Driving\\n\\nDrivers should not be able...          0\n4      Cell Phone Operation While Driving\\n\\nThe abil...          0\n...                                                  ...        ...\n44863  Dear Senator,\\n\\nI am writing to you today to ...          1\n44864  Dear Senator,\\n\\nI am writing to you today to ...          1\n44865  Dear Senator,\\n\\nI am writing to you today to ...          1\n44866  Dear Senator,\\n\\nI am writing to you today to ...          1\n44867  Dear Senator,\\n\\nI am writing to you today to ...          1\n\n[44868 rows x 2 columns]",
      "text/html": "<div>\n<style scoped>\n    .dataframe tbody tr th:only-of-type {\n        vertical-align: middle;\n    }\n\n    .dataframe tbody tr th {\n        vertical-align: top;\n    }\n\n    .dataframe thead th {\n        text-align: right;\n    }\n</style>\n<table border=\"1\" class=\"dataframe\">\n  <thead>\n    <tr style=\"text-align: right;\">\n      <th></th>\n      <th>text</th>\n      <th>generated</th>\n    </tr>\n  </thead>\n  <tbody>\n    <tr>\n      <th>0</th>\n      <td>Phones\\n\\nModern humans today are always on th...</td>\n      <td>0</td>\n    </tr>\n    <tr>\n      <th>1</th>\n      <td>This essay will explain if drivers should or s...</td>\n      <td>0</td>\n    </tr>\n    <tr>\n      <th>2</th>\n      <td>Driving while the use of cellular devices\\n\\nT...</td>\n      <td>0</td>\n    </tr>\n    <tr>\n      <th>3</th>\n      <td>Phones &amp; Driving\\n\\nDrivers should not be able...</td>\n      <td>0</td>\n    </tr>\n    <tr>\n      <th>4</th>\n      <td>Cell Phone Operation While Driving\\n\\nThe abil...</td>\n      <td>0</td>\n    </tr>\n    <tr>\n      <th>...</th>\n      <td>...</td>\n      <td>...</td>\n    </tr>\n    <tr>\n      <th>44863</th>\n      <td>Dear Senator,\\n\\nI am writing to you today to ...</td>\n      <td>1</td>\n    </tr>\n    <tr>\n      <th>44864</th>\n      <td>Dear Senator,\\n\\nI am writing to you today to ...</td>\n      <td>1</td>\n    </tr>\n    <tr>\n      <th>44865</th>\n      <td>Dear Senator,\\n\\nI am writing to you today to ...</td>\n      <td>1</td>\n    </tr>\n    <tr>\n      <th>44866</th>\n      <td>Dear Senator,\\n\\nI am writing to you today to ...</td>\n      <td>1</td>\n    </tr>\n    <tr>\n      <th>44867</th>\n      <td>Dear Senator,\\n\\nI am writing to you today to ...</td>\n      <td>1</td>\n    </tr>\n  </tbody>\n</table>\n<p>44868 rows × 2 columns</p>\n</div>"
     },
     "execution_count": 49,
     "metadata": {},
     "output_type": "execute_result"
    }
   ],
   "source": [
    "dr_cat_df = pd.read_csv('../datasets/train_v2_drcat_02.csv')\n",
    "dr_cat_df = dr_cat_df.drop(columns=['prompt_name', 'source', 'RDizzl3_seven'])\n",
    "dr_cat_df = dr_cat_df.rename(columns={'label': 'generated'})\n",
    "dr_cat_df"
   ],
   "metadata": {
    "collapsed": false,
    "ExecuteTime": {
     "end_time": "2024-04-09T14:26:12.982556Z",
     "start_time": "2024-04-09T14:26:12.095555Z"
    }
   },
   "id": "38f4a608d6bbf372",
   "execution_count": 49
  },
  {
   "cell_type": "code",
   "outputs": [
    {
     "data": {
      "text/plain": "                                                    text  generated\n0      John M. Hull's experience with his sense of he...          1\n1      John M. Hull's experience with his sense of he...          1\n2      John M. Hull's experience with his sense of he...          1\n3      John M. Hull, who became blind, developed a ne...          1\n4      Exposure to loud sounds can affect hearing by ...          1\n...                                                  ...        ...\n59663  The brain continues to develop until the mid-2...          1\n59664  The brain continues to grow and change until t...          1\n59665  Binge drinking is when someone drinks a lot of...          1\n59666  The brain continues to develop until the mid-2...          1\n59667  The brain continues to develop until the mid-2...          1\n\n[59668 rows x 2 columns]",
      "text/html": "<div>\n<style scoped>\n    .dataframe tbody tr th:only-of-type {\n        vertical-align: middle;\n    }\n\n    .dataframe tbody tr th {\n        vertical-align: top;\n    }\n\n    .dataframe thead th {\n        text-align: right;\n    }\n</style>\n<table border=\"1\" class=\"dataframe\">\n  <thead>\n    <tr style=\"text-align: right;\">\n      <th></th>\n      <th>text</th>\n      <th>generated</th>\n    </tr>\n  </thead>\n  <tbody>\n    <tr>\n      <th>0</th>\n      <td>John M. Hull's experience with his sense of he...</td>\n      <td>1</td>\n    </tr>\n    <tr>\n      <th>1</th>\n      <td>John M. Hull's experience with his sense of he...</td>\n      <td>1</td>\n    </tr>\n    <tr>\n      <th>2</th>\n      <td>John M. Hull's experience with his sense of he...</td>\n      <td>1</td>\n    </tr>\n    <tr>\n      <th>3</th>\n      <td>John M. Hull, who became blind, developed a ne...</td>\n      <td>1</td>\n    </tr>\n    <tr>\n      <th>4</th>\n      <td>Exposure to loud sounds can affect hearing by ...</td>\n      <td>1</td>\n    </tr>\n    <tr>\n      <th>...</th>\n      <td>...</td>\n      <td>...</td>\n    </tr>\n    <tr>\n      <th>59663</th>\n      <td>The brain continues to develop until the mid-2...</td>\n      <td>1</td>\n    </tr>\n    <tr>\n      <th>59664</th>\n      <td>The brain continues to grow and change until t...</td>\n      <td>1</td>\n    </tr>\n    <tr>\n      <th>59665</th>\n      <td>Binge drinking is when someone drinks a lot of...</td>\n      <td>1</td>\n    </tr>\n    <tr>\n      <th>59666</th>\n      <td>The brain continues to develop until the mid-2...</td>\n      <td>1</td>\n    </tr>\n    <tr>\n      <th>59667</th>\n      <td>The brain continues to develop until the mid-2...</td>\n      <td>1</td>\n    </tr>\n  </tbody>\n</table>\n<p>59668 rows × 2 columns</p>\n</div>"
     },
     "execution_count": 50,
     "metadata": {},
     "output_type": "execute_result"
    }
   ],
   "source": [
    "random_df = pd.read_csv('../datasets/kf_df.csv')\n",
    "random_df = random_df.drop(columns='prompt_title')\n",
    "random_df['generated'] = 1\n",
    "random_df"
   ],
   "metadata": {
    "collapsed": false,
    "ExecuteTime": {
     "end_time": "2024-04-09T14:26:13.703555Z",
     "start_time": "2024-04-09T14:26:12.983554Z"
    }
   },
   "id": "1190ac4e420d97e1",
   "execution_count": 50
  },
  {
   "cell_type": "code",
   "outputs": [
    {
     "data": {
      "text/plain": "                                                    text  generated\n0      Phones\\n\\nModern humans today are always on th...          0\n1      This essay will explain if drivers should or s...          0\n2      Driving while the use of cellular devices\\n\\nT...          0\n3      Phones & Driving\\n\\nDrivers should not be able...          0\n4      Cell Phone Operation While Driving\\n\\nThe abil...          0\n...                                                  ...        ...\n59663  The brain continues to develop until the mid-2...          1\n59664  The brain continues to grow and change until t...          1\n59665  Binge drinking is when someone drinks a lot of...          1\n59666  The brain continues to develop until the mid-2...          1\n59667  The brain continues to develop until the mid-2...          1\n\n[104536 rows x 2 columns]",
      "text/html": "<div>\n<style scoped>\n    .dataframe tbody tr th:only-of-type {\n        vertical-align: middle;\n    }\n\n    .dataframe tbody tr th {\n        vertical-align: top;\n    }\n\n    .dataframe thead th {\n        text-align: right;\n    }\n</style>\n<table border=\"1\" class=\"dataframe\">\n  <thead>\n    <tr style=\"text-align: right;\">\n      <th></th>\n      <th>text</th>\n      <th>generated</th>\n    </tr>\n  </thead>\n  <tbody>\n    <tr>\n      <th>0</th>\n      <td>Phones\\n\\nModern humans today are always on th...</td>\n      <td>0</td>\n    </tr>\n    <tr>\n      <th>1</th>\n      <td>This essay will explain if drivers should or s...</td>\n      <td>0</td>\n    </tr>\n    <tr>\n      <th>2</th>\n      <td>Driving while the use of cellular devices\\n\\nT...</td>\n      <td>0</td>\n    </tr>\n    <tr>\n      <th>3</th>\n      <td>Phones &amp; Driving\\n\\nDrivers should not be able...</td>\n      <td>0</td>\n    </tr>\n    <tr>\n      <th>4</th>\n      <td>Cell Phone Operation While Driving\\n\\nThe abil...</td>\n      <td>0</td>\n    </tr>\n    <tr>\n      <th>...</th>\n      <td>...</td>\n      <td>...</td>\n    </tr>\n    <tr>\n      <th>59663</th>\n      <td>The brain continues to develop until the mid-2...</td>\n      <td>1</td>\n    </tr>\n    <tr>\n      <th>59664</th>\n      <td>The brain continues to grow and change until t...</td>\n      <td>1</td>\n    </tr>\n    <tr>\n      <th>59665</th>\n      <td>Binge drinking is when someone drinks a lot of...</td>\n      <td>1</td>\n    </tr>\n    <tr>\n      <th>59666</th>\n      <td>The brain continues to develop until the mid-2...</td>\n      <td>1</td>\n    </tr>\n    <tr>\n      <th>59667</th>\n      <td>The brain continues to develop until the mid-2...</td>\n      <td>1</td>\n    </tr>\n  </tbody>\n</table>\n<p>104536 rows × 2 columns</p>\n</div>"
     },
     "execution_count": 51,
     "metadata": {},
     "output_type": "execute_result"
    }
   ],
   "source": [
    "tfidf_train_df = pd.concat([dr_cat_df, random_df])\n",
    "tfidf_train_df"
   ],
   "metadata": {
    "collapsed": false,
    "ExecuteTime": {
     "end_time": "2024-04-09T14:26:13.718555Z",
     "start_time": "2024-04-09T14:26:13.704556Z"
    }
   },
   "id": "fc2d2767f736e0ce",
   "execution_count": 51
  },
  {
   "cell_type": "code",
   "outputs": [
    {
     "data": {
      "text/plain": "                                                     text  generated\n0       Phones\\n\\nModern humans today are always on th...          0\n1       This essay will explain if drivers should or s...          0\n2       Driving while the use of cellular devices\\n\\nT...          0\n3       Phones & Driving\\n\\nDrivers should not be able...          0\n4       Cell Phone Operation While Driving\\n\\nThe abil...          0\n...                                                   ...        ...\n104531  The brain continues to develop until the mid-2...          1\n104532  The brain continues to grow and change until t...          1\n104533  Binge drinking is when someone drinks a lot of...          1\n104534  The brain continues to develop until the mid-2...          1\n104535  The brain continues to develop until the mid-2...          1\n\n[104536 rows x 2 columns]",
      "text/html": "<div>\n<style scoped>\n    .dataframe tbody tr th:only-of-type {\n        vertical-align: middle;\n    }\n\n    .dataframe tbody tr th {\n        vertical-align: top;\n    }\n\n    .dataframe thead th {\n        text-align: right;\n    }\n</style>\n<table border=\"1\" class=\"dataframe\">\n  <thead>\n    <tr style=\"text-align: right;\">\n      <th></th>\n      <th>text</th>\n      <th>generated</th>\n    </tr>\n  </thead>\n  <tbody>\n    <tr>\n      <th>0</th>\n      <td>Phones\\n\\nModern humans today are always on th...</td>\n      <td>0</td>\n    </tr>\n    <tr>\n      <th>1</th>\n      <td>This essay will explain if drivers should or s...</td>\n      <td>0</td>\n    </tr>\n    <tr>\n      <th>2</th>\n      <td>Driving while the use of cellular devices\\n\\nT...</td>\n      <td>0</td>\n    </tr>\n    <tr>\n      <th>3</th>\n      <td>Phones &amp; Driving\\n\\nDrivers should not be able...</td>\n      <td>0</td>\n    </tr>\n    <tr>\n      <th>4</th>\n      <td>Cell Phone Operation While Driving\\n\\nThe abil...</td>\n      <td>0</td>\n    </tr>\n    <tr>\n      <th>...</th>\n      <td>...</td>\n      <td>...</td>\n    </tr>\n    <tr>\n      <th>104531</th>\n      <td>The brain continues to develop until the mid-2...</td>\n      <td>1</td>\n    </tr>\n    <tr>\n      <th>104532</th>\n      <td>The brain continues to grow and change until t...</td>\n      <td>1</td>\n    </tr>\n    <tr>\n      <th>104533</th>\n      <td>Binge drinking is when someone drinks a lot of...</td>\n      <td>1</td>\n    </tr>\n    <tr>\n      <th>104534</th>\n      <td>The brain continues to develop until the mid-2...</td>\n      <td>1</td>\n    </tr>\n    <tr>\n      <th>104535</th>\n      <td>The brain continues to develop until the mid-2...</td>\n      <td>1</td>\n    </tr>\n  </tbody>\n</table>\n<p>104536 rows × 2 columns</p>\n</div>"
     },
     "execution_count": 52,
     "metadata": {},
     "output_type": "execute_result"
    }
   ],
   "source": [
    "tfidf_train_df = tfidf_train_df.drop_duplicates(subset=['text'])\n",
    "tfidf_train_df.reset_index(drop=True, inplace=True)\n",
    "tfidf_train_df"
   ],
   "metadata": {
    "collapsed": false,
    "ExecuteTime": {
     "end_time": "2024-04-09T14:26:13.814555Z",
     "start_time": "2024-04-09T14:26:13.719556Z"
    }
   },
   "id": "7f17d0278b3f2159",
   "execution_count": 52
  },
  {
   "cell_type": "code",
   "outputs": [],
   "source": [
    "tfidf_train_df.to_csv('../datasets/tfidf_train_essays.csv')"
   ],
   "metadata": {
    "collapsed": false,
    "ExecuteTime": {
     "end_time": "2024-04-09T14:26:16.126554Z",
     "start_time": "2024-04-09T14:26:13.815555Z"
    }
   },
   "id": "f97e6e9ea867fd35",
   "execution_count": 53
  }
 ],
 "metadata": {
  "kernelspec": {
   "display_name": "Python 3",
   "language": "python",
   "name": "python3"
  },
  "language_info": {
   "codemirror_mode": {
    "name": "ipython",
    "version": 2
   },
   "file_extension": ".py",
   "mimetype": "text/x-python",
   "name": "python",
   "nbconvert_exporter": "python",
   "pygments_lexer": "ipython2",
   "version": "2.7.6"
  }
 },
 "nbformat": 4,
 "nbformat_minor": 5
}
