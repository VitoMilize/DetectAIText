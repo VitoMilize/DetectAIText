{
 "cells": [
  {
   "cell_type": "code",
   "outputs": [
    {
     "data": {
      "text/plain": "False"
     },
     "execution_count": 5,
     "metadata": {},
     "output_type": "execute_result"
    }
   ],
   "source": [
    "import torch\n",
    "torch.cuda.is_available()"
   ],
   "metadata": {
    "collapsed": false,
    "ExecuteTime": {
     "end_time": "2024-04-10T11:30:13.142034Z",
     "start_time": "2024-04-10T11:30:13.132636Z"
    }
   },
   "id": "57a3be85ee83327d",
   "execution_count": 5
  },
  {
   "cell_type": "code",
   "execution_count": 14,
   "id": "initial_id",
   "metadata": {
    "collapsed": true,
    "ExecuteTime": {
     "end_time": "2024-04-09T14:39:26.101701Z",
     "start_time": "2024-04-09T14:39:26.091700Z"
    }
   },
   "outputs": [],
   "source": [
    "import pandas as pd"
   ]
  },
  {
   "cell_type": "code",
   "outputs": [
    {
     "data": {
      "text/plain": "                                                    text  generated\n0      Modern humans today are always on their phone....          0\n1      This essay will explain if drivers should or s...          0\n2      Drivers should not be able to use phones while...          0\n3      The ability to stay connected to people we kno...          0\n4      Cell phone use should not be legal while drivi...          0\n...                                                  ...        ...\n25639  80% of Americans believe seeking multiple opin...          0\n25640  When people ask for advice, they sometimes tal...          0\n25641  During a group project, have you ever asked a ...          0\n25642  Making choices in life can be very difficult. ...          0\n25643  Have you ever asked more than one person for h...          0\n\n[25644 rows x 2 columns]",
      "text/html": "<div>\n<style scoped>\n    .dataframe tbody tr th:only-of-type {\n        vertical-align: middle;\n    }\n\n    .dataframe tbody tr th {\n        vertical-align: top;\n    }\n\n    .dataframe thead th {\n        text-align: right;\n    }\n</style>\n<table border=\"1\" class=\"dataframe\">\n  <thead>\n    <tr style=\"text-align: right;\">\n      <th></th>\n      <th>text</th>\n      <th>generated</th>\n    </tr>\n  </thead>\n  <tbody>\n    <tr>\n      <th>0</th>\n      <td>Modern humans today are always on their phone....</td>\n      <td>0</td>\n    </tr>\n    <tr>\n      <th>1</th>\n      <td>This essay will explain if drivers should or s...</td>\n      <td>0</td>\n    </tr>\n    <tr>\n      <th>2</th>\n      <td>Drivers should not be able to use phones while...</td>\n      <td>0</td>\n    </tr>\n    <tr>\n      <th>3</th>\n      <td>The ability to stay connected to people we kno...</td>\n      <td>0</td>\n    </tr>\n    <tr>\n      <th>4</th>\n      <td>Cell phone use should not be legal while drivi...</td>\n      <td>0</td>\n    </tr>\n    <tr>\n      <th>...</th>\n      <td>...</td>\n      <td>...</td>\n    </tr>\n    <tr>\n      <th>25639</th>\n      <td>80% of Americans believe seeking multiple opin...</td>\n      <td>0</td>\n    </tr>\n    <tr>\n      <th>25640</th>\n      <td>When people ask for advice, they sometimes tal...</td>\n      <td>0</td>\n    </tr>\n    <tr>\n      <th>25641</th>\n      <td>During a group project, have you ever asked a ...</td>\n      <td>0</td>\n    </tr>\n    <tr>\n      <th>25642</th>\n      <td>Making choices in life can be very difficult. ...</td>\n      <td>0</td>\n    </tr>\n    <tr>\n      <th>25643</th>\n      <td>Have you ever asked more than one person for h...</td>\n      <td>0</td>\n    </tr>\n  </tbody>\n</table>\n<p>25644 rows × 2 columns</p>\n</div>"
     },
     "execution_count": 15,
     "metadata": {},
     "output_type": "execute_result"
    }
   ],
   "source": [
    "persuade_df = pd.read_csv('../datasets/persuade_essays.csv')\n",
    "persuade_df = persuade_df.drop(columns=['original_text', 'prompt', 'is_seven', 'length', 'essay_score', 'gender', 'grade_level'])\n",
    "persuade_df"
   ],
   "metadata": {
    "collapsed": false,
    "ExecuteTime": {
     "end_time": "2024-04-09T14:39:27.109703Z",
     "start_time": "2024-04-09T14:39:26.102701Z"
    }
   },
   "id": "2544da3b33185e3c",
   "execution_count": 15
  },
  {
   "cell_type": "code",
   "outputs": [
    {
     "data": {
      "text/plain": "                                                     text  generated\n0       in February 2021 were 113,000 tons, down by 6....          1\n1       City boss Lee Hodges is hoping his team can be...          0\n2       of buttons for each team, with 'minus' goal bu...          0\n3       repeatedly emphasized during the discussion. I...          0\n4       studios, pirate-themed cupcake shops (“sponsor...          1\n...                                                   ...        ...\n903335  than they once were? Often the \"changes\" have ...          1\n903336  This is what I have ``` import java.util.Scann...          1\n903337  came before i.e. the material invented post th...          1\n903338  dirty, polluting, fossil fuels. With Going Gre...          0\n903339  shot the vague idea that whores are worth what...          1\n\n[903340 rows x 2 columns]",
      "text/html": "<div>\n<style scoped>\n    .dataframe tbody tr th:only-of-type {\n        vertical-align: middle;\n    }\n\n    .dataframe tbody tr th {\n        vertical-align: top;\n    }\n\n    .dataframe thead th {\n        text-align: right;\n    }\n</style>\n<table border=\"1\" class=\"dataframe\">\n  <thead>\n    <tr style=\"text-align: right;\">\n      <th></th>\n      <th>text</th>\n      <th>generated</th>\n    </tr>\n  </thead>\n  <tbody>\n    <tr>\n      <th>0</th>\n      <td>in February 2021 were 113,000 tons, down by 6....</td>\n      <td>1</td>\n    </tr>\n    <tr>\n      <th>1</th>\n      <td>City boss Lee Hodges is hoping his team can be...</td>\n      <td>0</td>\n    </tr>\n    <tr>\n      <th>2</th>\n      <td>of buttons for each team, with 'minus' goal bu...</td>\n      <td>0</td>\n    </tr>\n    <tr>\n      <th>3</th>\n      <td>repeatedly emphasized during the discussion. I...</td>\n      <td>0</td>\n    </tr>\n    <tr>\n      <th>4</th>\n      <td>studios, pirate-themed cupcake shops (“sponsor...</td>\n      <td>1</td>\n    </tr>\n    <tr>\n      <th>...</th>\n      <td>...</td>\n      <td>...</td>\n    </tr>\n    <tr>\n      <th>903335</th>\n      <td>than they once were? Often the \"changes\" have ...</td>\n      <td>1</td>\n    </tr>\n    <tr>\n      <th>903336</th>\n      <td>This is what I have ``` import java.util.Scann...</td>\n      <td>1</td>\n    </tr>\n    <tr>\n      <th>903337</th>\n      <td>came before i.e. the material invented post th...</td>\n      <td>1</td>\n    </tr>\n    <tr>\n      <th>903338</th>\n      <td>dirty, polluting, fossil fuels. With Going Gre...</td>\n      <td>0</td>\n    </tr>\n    <tr>\n      <th>903339</th>\n      <td>shot the vague idea that whores are worth what...</td>\n      <td>1</td>\n    </tr>\n  </tbody>\n</table>\n<p>903340 rows × 2 columns</p>\n</div>"
     },
     "execution_count": 16,
     "metadata": {},
     "output_type": "execute_result"
    }
   ],
   "source": [
    "slimpajama_df = pd.read_pickle('../datasets/slimpajama_essays.pkl')\n",
    "slimpajama_df"
   ],
   "metadata": {
    "collapsed": false,
    "ExecuteTime": {
     "end_time": "2024-04-09T14:39:31.485767Z",
     "start_time": "2024-04-09T14:39:27.110701Z"
    }
   },
   "id": "e48c7ca1287de477",
   "execution_count": 16
  },
  {
   "cell_type": "code",
   "outputs": [
    {
     "data": {
      "text/plain": "                                                     text  generated\n0       Modern humans today are always on their phone....          0\n1       This essay will explain if drivers should or s...          0\n2       Drivers should not be able to use phones while...          0\n3       The ability to stay connected to people we kno...          0\n4       Cell phone use should not be legal while drivi...          0\n...                                                   ...        ...\n903335  than they once were? Often the \"changes\" have ...          1\n903336  This is what I have ``` import java.util.Scann...          1\n903337  came before i.e. the material invented post th...          1\n903338  dirty, polluting, fossil fuels. With Going Gre...          0\n903339  shot the vague idea that whores are worth what...          1\n\n[928984 rows x 2 columns]",
      "text/html": "<div>\n<style scoped>\n    .dataframe tbody tr th:only-of-type {\n        vertical-align: middle;\n    }\n\n    .dataframe tbody tr th {\n        vertical-align: top;\n    }\n\n    .dataframe thead th {\n        text-align: right;\n    }\n</style>\n<table border=\"1\" class=\"dataframe\">\n  <thead>\n    <tr style=\"text-align: right;\">\n      <th></th>\n      <th>text</th>\n      <th>generated</th>\n    </tr>\n  </thead>\n  <tbody>\n    <tr>\n      <th>0</th>\n      <td>Modern humans today are always on their phone....</td>\n      <td>0</td>\n    </tr>\n    <tr>\n      <th>1</th>\n      <td>This essay will explain if drivers should or s...</td>\n      <td>0</td>\n    </tr>\n    <tr>\n      <th>2</th>\n      <td>Drivers should not be able to use phones while...</td>\n      <td>0</td>\n    </tr>\n    <tr>\n      <th>3</th>\n      <td>The ability to stay connected to people we kno...</td>\n      <td>0</td>\n    </tr>\n    <tr>\n      <th>4</th>\n      <td>Cell phone use should not be legal while drivi...</td>\n      <td>0</td>\n    </tr>\n    <tr>\n      <th>...</th>\n      <td>...</td>\n      <td>...</td>\n    </tr>\n    <tr>\n      <th>903335</th>\n      <td>than they once were? Often the \"changes\" have ...</td>\n      <td>1</td>\n    </tr>\n    <tr>\n      <th>903336</th>\n      <td>This is what I have ``` import java.util.Scann...</td>\n      <td>1</td>\n    </tr>\n    <tr>\n      <th>903337</th>\n      <td>came before i.e. the material invented post th...</td>\n      <td>1</td>\n    </tr>\n    <tr>\n      <th>903338</th>\n      <td>dirty, polluting, fossil fuels. With Going Gre...</td>\n      <td>0</td>\n    </tr>\n    <tr>\n      <th>903339</th>\n      <td>shot the vague idea that whores are worth what...</td>\n      <td>1</td>\n    </tr>\n  </tbody>\n</table>\n<p>928984 rows × 2 columns</p>\n</div>"
     },
     "execution_count": 17,
     "metadata": {},
     "output_type": "execute_result"
    }
   ],
   "source": [
    "llm_train_df = pd.concat([persuade_df, slimpajama_df])\n",
    "llm_train_df"
   ],
   "metadata": {
    "collapsed": false,
    "ExecuteTime": {
     "end_time": "2024-04-09T14:39:31.531768Z",
     "start_time": "2024-04-09T14:39:31.486770Z"
    }
   },
   "id": "f4f537c6055976df",
   "execution_count": 17
  },
  {
   "cell_type": "code",
   "outputs": [
    {
     "data": {
      "text/plain": "                                                     text  generated\n0       Modern humans today are always on their phone....          0\n1       This essay will explain if drivers should or s...          0\n2       Drivers should not be able to use phones while...          0\n3       The ability to stay connected to people we kno...          0\n4       Cell phone use should not be legal while drivi...          0\n...                                                   ...        ...\n916282  than they once were? Often the \"changes\" have ...          1\n916283  This is what I have ``` import java.util.Scann...          1\n916284  came before i.e. the material invented post th...          1\n916285  dirty, polluting, fossil fuels. With Going Gre...          0\n916286  shot the vague idea that whores are worth what...          1\n\n[916287 rows x 2 columns]",
      "text/html": "<div>\n<style scoped>\n    .dataframe tbody tr th:only-of-type {\n        vertical-align: middle;\n    }\n\n    .dataframe tbody tr th {\n        vertical-align: top;\n    }\n\n    .dataframe thead th {\n        text-align: right;\n    }\n</style>\n<table border=\"1\" class=\"dataframe\">\n  <thead>\n    <tr style=\"text-align: right;\">\n      <th></th>\n      <th>text</th>\n      <th>generated</th>\n    </tr>\n  </thead>\n  <tbody>\n    <tr>\n      <th>0</th>\n      <td>Modern humans today are always on their phone....</td>\n      <td>0</td>\n    </tr>\n    <tr>\n      <th>1</th>\n      <td>This essay will explain if drivers should or s...</td>\n      <td>0</td>\n    </tr>\n    <tr>\n      <th>2</th>\n      <td>Drivers should not be able to use phones while...</td>\n      <td>0</td>\n    </tr>\n    <tr>\n      <th>3</th>\n      <td>The ability to stay connected to people we kno...</td>\n      <td>0</td>\n    </tr>\n    <tr>\n      <th>4</th>\n      <td>Cell phone use should not be legal while drivi...</td>\n      <td>0</td>\n    </tr>\n    <tr>\n      <th>...</th>\n      <td>...</td>\n      <td>...</td>\n    </tr>\n    <tr>\n      <th>916282</th>\n      <td>than they once were? Often the \"changes\" have ...</td>\n      <td>1</td>\n    </tr>\n    <tr>\n      <th>916283</th>\n      <td>This is what I have ``` import java.util.Scann...</td>\n      <td>1</td>\n    </tr>\n    <tr>\n      <th>916284</th>\n      <td>came before i.e. the material invented post th...</td>\n      <td>1</td>\n    </tr>\n    <tr>\n      <th>916285</th>\n      <td>dirty, polluting, fossil fuels. With Going Gre...</td>\n      <td>0</td>\n    </tr>\n    <tr>\n      <th>916286</th>\n      <td>shot the vague idea that whores are worth what...</td>\n      <td>1</td>\n    </tr>\n  </tbody>\n</table>\n<p>916287 rows × 2 columns</p>\n</div>"
     },
     "execution_count": 18,
     "metadata": {},
     "output_type": "execute_result"
    }
   ],
   "source": [
    "llm_train_df = llm_train_df.drop_duplicates(subset=['text'])\n",
    "llm_train_df.reset_index(drop=True, inplace=True)\n",
    "llm_train_df"
   ],
   "metadata": {
    "collapsed": false,
    "ExecuteTime": {
     "end_time": "2024-04-09T14:39:32.866768Z",
     "start_time": "2024-04-09T14:39:31.532769Z"
    }
   },
   "id": "f9962c7a189e685e",
   "execution_count": 18
  },
  {
   "cell_type": "code",
   "outputs": [],
   "source": [
    "llm_train_df.to_pickle('../datasets/llm_train_essays.pkl')"
   ],
   "metadata": {
    "collapsed": false,
    "ExecuteTime": {
     "end_time": "2024-04-09T14:39:36.010768Z",
     "start_time": "2024-04-09T14:39:32.867769Z"
    }
   },
   "id": "64abc598971e3557",
   "execution_count": 19
  },
  {
   "cell_type": "code",
   "outputs": [
    {
     "data": {
      "text/plain": "                                                     text  generated\n0       Modern humans today are always on their phone....          0\n1       This essay will explain if drivers should or s...          0\n2       Drivers should not be able to use phones while...          0\n3       The ability to stay connected to people we kno...          0\n4       Cell phone use should not be legal while drivi...          0\n...                                                   ...        ...\n916282  than they once were? Often the \"changes\" have ...          1\n916283  This is what I have ``` import java.util.Scann...          1\n916284  came before i.e. the material invented post th...          1\n916285  dirty, polluting, fossil fuels. With Going Gre...          0\n916286  shot the vague idea that whores are worth what...          1\n\n[916287 rows x 2 columns]",
      "text/html": "<div>\n<style scoped>\n    .dataframe tbody tr th:only-of-type {\n        vertical-align: middle;\n    }\n\n    .dataframe tbody tr th {\n        vertical-align: top;\n    }\n\n    .dataframe thead th {\n        text-align: right;\n    }\n</style>\n<table border=\"1\" class=\"dataframe\">\n  <thead>\n    <tr style=\"text-align: right;\">\n      <th></th>\n      <th>text</th>\n      <th>generated</th>\n    </tr>\n  </thead>\n  <tbody>\n    <tr>\n      <th>0</th>\n      <td>Modern humans today are always on their phone....</td>\n      <td>0</td>\n    </tr>\n    <tr>\n      <th>1</th>\n      <td>This essay will explain if drivers should or s...</td>\n      <td>0</td>\n    </tr>\n    <tr>\n      <th>2</th>\n      <td>Drivers should not be able to use phones while...</td>\n      <td>0</td>\n    </tr>\n    <tr>\n      <th>3</th>\n      <td>The ability to stay connected to people we kno...</td>\n      <td>0</td>\n    </tr>\n    <tr>\n      <th>4</th>\n      <td>Cell phone use should not be legal while drivi...</td>\n      <td>0</td>\n    </tr>\n    <tr>\n      <th>...</th>\n      <td>...</td>\n      <td>...</td>\n    </tr>\n    <tr>\n      <th>916282</th>\n      <td>than they once were? Often the \"changes\" have ...</td>\n      <td>1</td>\n    </tr>\n    <tr>\n      <th>916283</th>\n      <td>This is what I have ``` import java.util.Scann...</td>\n      <td>1</td>\n    </tr>\n    <tr>\n      <th>916284</th>\n      <td>came before i.e. the material invented post th...</td>\n      <td>1</td>\n    </tr>\n    <tr>\n      <th>916285</th>\n      <td>dirty, polluting, fossil fuels. With Going Gre...</td>\n      <td>0</td>\n    </tr>\n    <tr>\n      <th>916286</th>\n      <td>shot the vague idea that whores are worth what...</td>\n      <td>1</td>\n    </tr>\n  </tbody>\n</table>\n<p>916287 rows × 2 columns</p>\n</div>"
     },
     "execution_count": 20,
     "metadata": {},
     "output_type": "execute_result"
    }
   ],
   "source": [
    "df = pd.read_pickle('../datasets/llm_train_essays.pkl')\n",
    "df"
   ],
   "metadata": {
    "collapsed": false,
    "ExecuteTime": {
     "end_time": "2024-04-09T14:39:41.177322Z",
     "start_time": "2024-04-09T14:39:36.011767Z"
    }
   },
   "id": "611024c5afba0b3c",
   "execution_count": 20
  }
 ],
 "metadata": {
  "kernelspec": {
   "display_name": "Python 3",
   "language": "python",
   "name": "python3"
  },
  "language_info": {
   "codemirror_mode": {
    "name": "ipython",
    "version": 2
   },
   "file_extension": ".py",
   "mimetype": "text/x-python",
   "name": "python",
   "nbconvert_exporter": "python",
   "pygments_lexer": "ipython2",
   "version": "2.7.6"
  }
 },
 "nbformat": 4,
 "nbformat_minor": 5
}
