{
 "cells": [
  {
   "cell_type": "code",
   "execution_count": 268,
   "id": "initial_id",
   "metadata": {
    "collapsed": true,
    "ExecuteTime": {
     "end_time": "2024-04-03T20:14:12.768833Z",
     "start_time": "2024-04-03T20:14:12.760835Z"
    }
   },
   "outputs": [],
   "source": [
    "import torch\n",
    "import numpy as np\n",
    "import pandas as pd\n",
    "from transformers import AutoTokenizer, AutoModelForSequenceClassification\n",
    "from tqdm.auto import tqdm"
   ]
  },
  {
   "cell_type": "code",
   "outputs": [],
   "source": [
    "test = pd.read_csv(\"../datasets/test_essays.csv\")\n",
    "X_test = test[\"text\"]"
   ],
   "metadata": {
    "collapsed": false
   },
   "id": "cb3ca26119ee9023"
  },
  {
   "cell_type": "code",
   "outputs": [],
   "source": [
    "MODEL_PATH = \"/kaggle/input/detect-ai-text-deberta-v3-large/pytorch/large/1\"\n",
    "MAX_LEN = 1024\n",
    "BATCH_SIZE = 16\n",
    "\n",
    "tokenizer = AutoTokenizer.from_pretrained(MODEL_PATH)\n",
    "model = AutoModelForSequenceClassification.from_pretrained(MODEL_PATH, max_position_embeddings=MAX_LEN).to(\"cuda\")\n",
    "\n",
    "y_pred = []\n",
    "with torch.no_grad():\n",
    "    for i in tqdm(range(0, len(test), BATCH_SIZE)):\n",
    "        inputs = tokenizer(\n",
    "            X_test[i : i + BATCH_SIZE].tolist(),\n",
    "            padding=True,\n",
    "            truncation=True,\n",
    "            max_length=MAX_LEN,\n",
    "            return_tensors=\"pt\",\n",
    "        ).to(\"cuda\")\n",
    "        logits = model(**inputs).logits.cpu().numpy()\n",
    "        y_pred.extend((np.exp(logits) / np.sum(np.exp(logits), axis=-1, keepdims=True))[:, 1])\n",
    "        \n",
    "del tokenizer\n",
    "del model\n",
    "torch.cuda.empty_cache()"
   ],
   "metadata": {
    "collapsed": false,
    "ExecuteTime": {
     "end_time": "2024-04-03T20:14:14.244832Z",
     "start_time": "2024-04-03T20:14:12.769832Z"
    }
   },
   "id": "27eaa9ab11d19db2",
   "execution_count": 269
  },
  {
   "cell_type": "code",
   "outputs": [],
   "source": [
    "pd.DataFrame({\"id\": test[\"id\"], \"generated\": y_pred}).to_csv(\n",
    "    \"submission.csv\", index=False\n",
    ")"
   ],
   "metadata": {
    "collapsed": false,
    "ExecuteTime": {
     "end_time": "2024-04-03T20:14:14.450835Z",
     "start_time": "2024-04-03T20:14:14.419832Z"
    }
   },
   "id": "70609595ffc1308",
   "execution_count": 276
  }
 ],
 "metadata": {
  "kernelspec": {
   "display_name": "Python 3",
   "language": "python",
   "name": "python3"
  },
  "language_info": {
   "codemirror_mode": {
    "name": "ipython",
    "version": 2
   },
   "file_extension": ".py",
   "mimetype": "text/x-python",
   "name": "python",
   "nbconvert_exporter": "python",
   "pygments_lexer": "ipython2",
   "version": "2.7.6"
  }
 },
 "nbformat": 4,
 "nbformat_minor": 5
}
