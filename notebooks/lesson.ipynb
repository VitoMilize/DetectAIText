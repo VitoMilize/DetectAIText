{
 "cells": [
  {
   "cell_type": "code",
   "execution_count": 12,
   "id": "initial_id",
   "metadata": {
    "collapsed": true,
    "ExecuteTime": {
     "end_time": "2024-04-01T05:59:07.839797Z",
     "start_time": "2024-04-01T05:59:07.830796Z"
    }
   },
   "outputs": [],
   "source": [
    "import pandas as pd"
   ]
  },
  {
   "cell_type": "code",
   "outputs": [],
   "source": [
    "train_df = pd.read_csv(\"../datasets/train_essays.csv\")\n",
    "test_df = pd.read_csv('../datasets/test_essays.csv')\n",
    "submission_df = pd.read_csv('../datasets/sample_submission.csv')\n",
    "drcat_df = pd.read_csv(\"../datasets/train_v2_drcat_02.csv\")\n",
    "kf_df = pd.read_csv('../datasets/kf_df.csv')"
   ],
   "metadata": {
    "collapsed": false,
    "ExecuteTime": {
     "end_time": "2024-04-01T05:59:09.328648Z",
     "start_time": "2024-04-01T05:59:07.840799Z"
    }
   },
   "id": "3838f02af1473547",
   "execution_count": 13
  },
  {
   "cell_type": "code",
   "outputs": [
    {
     "data": {
      "text/plain": "                                                    text  label  \\\n0      Phones\\n\\nModern humans today are always on th...      0   \n1      This essay will explain if drivers should or s...      0   \n2      Driving while the use of cellular devices\\n\\nT...      0   \n3      Phones & Driving\\n\\nDrivers should not be able...      0   \n4      Cell Phone Operation While Driving\\n\\nThe abil...      0   \n...                                                  ...    ...   \n44863  Dear Senator,\\n\\nI am writing to you today to ...      1   \n44864  Dear Senator,\\n\\nI am writing to you today to ...      1   \n44865  Dear Senator,\\n\\nI am writing to you today to ...      1   \n44866  Dear Senator,\\n\\nI am writing to you today to ...      1   \n44867  Dear Senator,\\n\\nI am writing to you today to ...      1   \n\n                            prompt_name           source  RDizzl3_seven  \n0                    Phones and driving  persuade_corpus          False  \n1                    Phones and driving  persuade_corpus          False  \n2                    Phones and driving  persuade_corpus          False  \n3                    Phones and driving  persuade_corpus          False  \n4                    Phones and driving  persuade_corpus          False  \n...                                 ...              ...            ...  \n44863  Does the electoral college work?    kingki19_palm           True  \n44864  Does the electoral college work?    kingki19_palm           True  \n44865  Does the electoral college work?    kingki19_palm           True  \n44866  Does the electoral college work?    kingki19_palm           True  \n44867  Does the electoral college work?    kingki19_palm           True  \n\n[44868 rows x 5 columns]",
      "text/html": "<div>\n<style scoped>\n    .dataframe tbody tr th:only-of-type {\n        vertical-align: middle;\n    }\n\n    .dataframe tbody tr th {\n        vertical-align: top;\n    }\n\n    .dataframe thead th {\n        text-align: right;\n    }\n</style>\n<table border=\"1\" class=\"dataframe\">\n  <thead>\n    <tr style=\"text-align: right;\">\n      <th></th>\n      <th>text</th>\n      <th>label</th>\n      <th>prompt_name</th>\n      <th>source</th>\n      <th>RDizzl3_seven</th>\n    </tr>\n  </thead>\n  <tbody>\n    <tr>\n      <th>0</th>\n      <td>Phones\\n\\nModern humans today are always on th...</td>\n      <td>0</td>\n      <td>Phones and driving</td>\n      <td>persuade_corpus</td>\n      <td>False</td>\n    </tr>\n    <tr>\n      <th>1</th>\n      <td>This essay will explain if drivers should or s...</td>\n      <td>0</td>\n      <td>Phones and driving</td>\n      <td>persuade_corpus</td>\n      <td>False</td>\n    </tr>\n    <tr>\n      <th>2</th>\n      <td>Driving while the use of cellular devices\\n\\nT...</td>\n      <td>0</td>\n      <td>Phones and driving</td>\n      <td>persuade_corpus</td>\n      <td>False</td>\n    </tr>\n    <tr>\n      <th>3</th>\n      <td>Phones &amp; Driving\\n\\nDrivers should not be able...</td>\n      <td>0</td>\n      <td>Phones and driving</td>\n      <td>persuade_corpus</td>\n      <td>False</td>\n    </tr>\n    <tr>\n      <th>4</th>\n      <td>Cell Phone Operation While Driving\\n\\nThe abil...</td>\n      <td>0</td>\n      <td>Phones and driving</td>\n      <td>persuade_corpus</td>\n      <td>False</td>\n    </tr>\n    <tr>\n      <th>...</th>\n      <td>...</td>\n      <td>...</td>\n      <td>...</td>\n      <td>...</td>\n      <td>...</td>\n    </tr>\n    <tr>\n      <th>44863</th>\n      <td>Dear Senator,\\n\\nI am writing to you today to ...</td>\n      <td>1</td>\n      <td>Does the electoral college work?</td>\n      <td>kingki19_palm</td>\n      <td>True</td>\n    </tr>\n    <tr>\n      <th>44864</th>\n      <td>Dear Senator,\\n\\nI am writing to you today to ...</td>\n      <td>1</td>\n      <td>Does the electoral college work?</td>\n      <td>kingki19_palm</td>\n      <td>True</td>\n    </tr>\n    <tr>\n      <th>44865</th>\n      <td>Dear Senator,\\n\\nI am writing to you today to ...</td>\n      <td>1</td>\n      <td>Does the electoral college work?</td>\n      <td>kingki19_palm</td>\n      <td>True</td>\n    </tr>\n    <tr>\n      <th>44866</th>\n      <td>Dear Senator,\\n\\nI am writing to you today to ...</td>\n      <td>1</td>\n      <td>Does the electoral college work?</td>\n      <td>kingki19_palm</td>\n      <td>True</td>\n    </tr>\n    <tr>\n      <th>44867</th>\n      <td>Dear Senator,\\n\\nI am writing to you today to ...</td>\n      <td>1</td>\n      <td>Does the electoral college work?</td>\n      <td>kingki19_palm</td>\n      <td>True</td>\n    </tr>\n  </tbody>\n</table>\n<p>44868 rows × 5 columns</p>\n</div>"
     },
     "execution_count": 14,
     "metadata": {},
     "output_type": "execute_result"
    }
   ],
   "source": [
    "drcat_df"
   ],
   "metadata": {
    "collapsed": false,
    "ExecuteTime": {
     "end_time": "2024-04-01T05:59:09.344615Z",
     "start_time": "2024-04-01T05:59:09.329616Z"
    }
   },
   "id": "80ad1927bb8da116",
   "execution_count": 14
  }
 ],
 "metadata": {
  "kernelspec": {
   "display_name": "Python 3",
   "language": "python",
   "name": "python3"
  },
  "language_info": {
   "codemirror_mode": {
    "name": "ipython",
    "version": 2
   },
   "file_extension": ".py",
   "mimetype": "text/x-python",
   "name": "python",
   "nbconvert_exporter": "python",
   "pygments_lexer": "ipython2",
   "version": "2.7.6"
  }
 },
 "nbformat": 4,
 "nbformat_minor": 5
}
