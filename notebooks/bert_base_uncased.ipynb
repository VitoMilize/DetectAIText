{
 "cells": [
  {
   "cell_type": "code",
   "execution_count": null,
   "id": "initial_id",
   "metadata": {
    "collapsed": true
   },
   "outputs": [],
   "source": [
    "import tensorflow as tf\n",
    "from transformers import TFAutoModel, AutoTokenizer\n",
    "from datasets import load_dataset\n",
    "import pandas as pd"
   ]
  },
  {
   "cell_type": "code",
   "outputs": [],
   "source": [
    "test_df = pd.read_csv('../test_essays.csv')\n",
    "submission_df = pd.read_csv('../sample_submission.csv')\n",
    "train_df = pd.read_csv(\"../train_v2_drcat_02.csv\")\n",
    "kf_df = pd.read_csv('../kf_df.csv')"
   ],
   "metadata": {
    "collapsed": false
   },
   "id": "98dbb260ab5a2202"
  },
  {
   "cell_type": "code",
   "outputs": [],
   "source": [
    "kf_df = kf_df.rename(columns={'prompt_title': 'prompt_name'})\n",
    "kf_df['label'] = 1\n",
    "kf_df['source'] = 'kf'\n",
    "kf_df['RDizzl3_seven'] = False"
   ],
   "metadata": {
    "collapsed": false
   },
   "id": "b3e174b04e32f7c7"
  },
  {
   "cell_type": "code",
   "outputs": [],
   "source": [
    "train_df = pd.concat([train_df, kf_df[train_df.columns].sample(30000, random_state=42)])"
   ],
   "metadata": {
    "collapsed": false
   },
   "id": "c8c8bcc49afe29c0"
  },
  {
   "cell_type": "code",
   "outputs": [],
   "source": [
    "train_df = train_df.drop_duplicates(subset=['text'])\n",
    "train_df.reset_index(drop=True, inplace=True)"
   ],
   "metadata": {
    "collapsed": false
   },
   "id": "1bfc1423f1a61d4c"
  },
  {
   "cell_type": "code",
   "outputs": [],
   "source": [
    "model = TFAutoModel.from_pretrained(\"bert-base-uncased\")"
   ],
   "metadata": {
    "collapsed": false
   },
   "id": "19919adc6e76473f"
  },
  {
   "cell_type": "code",
   "outputs": [],
   "source": [
    "tokenizer = AutoTokenizer.from_pretrained(\"bert-base-uncased\")"
   ],
   "metadata": {
    "collapsed": false
   },
   "id": "922365b1ec78d779"
  },
  {
   "cell_type": "code",
   "outputs": [],
   "source": [
    "def tokenize(batch):\n",
    "    return tokenizer(batch[\"text\"], padding=True, truncation=True)"
   ],
   "metadata": {
    "collapsed": false
   },
   "id": "270dacc620a8a7b"
  },
  {
   "cell_type": "code",
   "outputs": [],
   "source": [
    "data_encoded = train_df.map(tokenize, batched=True, batch_size=None)"
   ],
   "metadata": {
    "collapsed": false
   },
   "id": "c09b16d6a2b3da26"
  },
  {
   "cell_type": "code",
   "outputs": [],
   "source": [],
   "metadata": {
    "collapsed": false
   },
   "id": "a31a777bd99410e5"
  }
 ],
 "metadata": {
  "kernelspec": {
   "display_name": "Python 3",
   "language": "python",
   "name": "python3"
  },
  "language_info": {
   "codemirror_mode": {
    "name": "ipython",
    "version": 2
   },
   "file_extension": ".py",
   "mimetype": "text/x-python",
   "name": "python",
   "nbconvert_exporter": "python",
   "pygments_lexer": "ipython2",
   "version": "2.7.6"
  }
 },
 "nbformat": 4,
 "nbformat_minor": 5
}
